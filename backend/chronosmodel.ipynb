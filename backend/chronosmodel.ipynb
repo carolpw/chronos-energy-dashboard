{
 "cells": [
  {
   "cell_type": "code",
   "execution_count": 2,
   "id": "4d0a10f3",
   "metadata": {},
   "outputs": [],
   "source": [
    "import pandas as pd  # requires: pip install pandas\n",
    "import torch\n",
    "from chronos import BaseChronosPipeline\n",
    "\n",
    "# Load the AI model\n",
    "pipeline = BaseChronosPipeline.from_pretrained(\n",
    "    \"amazon/chronos-bolt-tiny\",\n",
    "    device_map=\"cpu\",  # use \"cpu\" for CPU inference and \"mps\" for Apple Silicon\n",
    "    torch_dtype=torch.bfloat16,\n",
    ")\n"
   ]
  },
  {
   "cell_type": "code",
   "execution_count": 8,
   "id": "5f4acd20",
   "metadata": {},
   "outputs": [
    {
     "name": "stderr",
     "output_type": "stream",
     "text": [
      "C:\\Users\\G4G1\\AppData\\Local\\Temp\\ipykernel_7652\\2262547877.py:7: FutureWarning: 'T' is deprecated and will be removed in a future version, please use 'min' instead.\n",
      "  timestamps = pd.date_range(start=\"2023-01-01\", periods=1440, freq=\"T\")  # 1440 minutes = 1 day\n"
     ]
    },
    {
     "data": {
      "text/plain": [
       "[99.69197845458984,\n",
       " 99.66931915283203,\n",
       " 99.64665222167969,\n",
       " 99.64665222167969,\n",
       " 99.69197845458984,\n",
       " 99.69197845458984,\n",
       " 99.66931915283203,\n",
       " 99.69197845458984,\n",
       " 99.71463775634766,\n",
       " 99.73729705810547,\n",
       " 99.75996398925781,\n",
       " 99.78262329101562,\n",
       " 99.82794189453125,\n",
       " 99.80528259277344,\n",
       " 99.78262329101562,\n",
       " 99.75996398925781,\n",
       " 99.78262329101562,\n",
       " 99.73729705810547,\n",
       " 99.75996398925781,\n",
       " 99.75996398925781]"
      ]
     },
     "execution_count": 8,
     "metadata": {},
     "output_type": "execute_result"
    }
   ],
   "source": [
    "# make predictions\n",
    "import pandas as pd\n",
    "import numpy as np\n",
    "import torch\n",
    "\n",
    "# Generate 1 day of minute-by-minute temperature data\n",
    "timestamps = pd.date_range(start=\"2023-01-01\", periods=1440, freq=\"T\")  # 1440 minutes = 1 day\n",
    "base_temp = 90  # Starting temperature\n",
    "trend = np.linspace(0, 10, len(timestamps))  # 10°C increase over the day\n",
    "noise = np.random.normal(0, 0.2, size=len(timestamps))  # Small fluctuations\n",
    "temperature = base_temp + trend + noise\n",
    "\n",
    "# Wrap in a minimal DataFrame for a single item\n",
    "df = pd.DataFrame({\n",
    "    \"item_id\": \"boiler_1\",   # only one time series\n",
    "    \"timestamp\": timestamps,\n",
    "    \"target\": temperature\n",
    "})\n",
    "\n",
    "# context must be either a 1D tensor, a list of 1D tensors,\n",
    "# or a left-padded 2D tensor with batch as the first dimension\n",
    "# Chronos-Bolt models generate quantile forecasts, so forecast has shape\n",
    "# [num_series, num_quantiles, prediction_length].\n",
    "forecast = pipeline.predict(\n",
    "    context=torch.tensor(df[\"target\"]), prediction_length=20\n",
    ")\n",
    "forecast[0][0].tolist()"
   ]
  }
 ],
 "metadata": {
  "kernelspec": {
   "display_name": "chronos",
   "language": "python",
   "name": "python3"
  },
  "language_info": {
   "codemirror_mode": {
    "name": "ipython",
    "version": 3
   },
   "file_extension": ".py",
   "mimetype": "text/x-python",
   "name": "python",
   "nbconvert_exporter": "python",
   "pygments_lexer": "ipython3",
   "version": "3.11.13"
  }
 },
 "nbformat": 4,
 "nbformat_minor": 5
}
